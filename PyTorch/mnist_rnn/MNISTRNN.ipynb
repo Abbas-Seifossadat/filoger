{
 "cells": [
  {
   "cell_type": "code",
   "execution_count": 1,
   "id": "95ed4f95",
   "metadata": {},
   "outputs": [],
   "source": [
    "from __future__ import print_function\n",
    "import argparse\n",
    "import torch\n",
    "import torch.nn as nn\n",
    "import torch.nn.functional as F\n",
    "import torch.optim as optim\n",
    "from torch.optim.lr_scheduler import StepLR\n",
    "from torchvision import datasets, transforms"
   ]
  },
  {
   "cell_type": "code",
   "execution_count": 2,
   "id": "b84f7036",
   "metadata": {},
   "outputs": [],
   "source": [
    "class Net(nn.Module):\n",
    "    def __init__(self):\n",
    "        super(Net, self).__init__()\n",
    "        self.rnn = nn.LSTM(input_size=28, hidden_size=64, batch_first=True)\n",
    "        self.batchnorm = nn.BatchNorm1d(64)\n",
    "        self.dropout1 = nn.Dropout2d(0.25)\n",
    "        self.dropout2 = nn.Dropout2d(0.5)\n",
    "        self.fc1 = nn.Linear(64, 32)\n",
    "        self.fc2 = nn.Linear(32, 10)\n",
    "\n",
    "    def forward(self, input):\n",
    "        input = input.reshape(-1, 28, 28)\n",
    "        output, hidden = self.rnn(input)\n",
    "        output = output[:, -1, :]\n",
    "        output = self.batchnorm(output)\n",
    "        output = self.dropout1(output)\n",
    "        output = self.fc1(output)\n",
    "        output = F.relu(output)\n",
    "        output = self.dropout2(output)\n",
    "        output = self.fc2(output)\n",
    "        output = F.log_softmax(output, dim=1)\n",
    "        return output"
   ]
  },
  {
   "cell_type": "code",
   "execution_count": 3,
   "id": "1b06602a",
   "metadata": {},
   "outputs": [],
   "source": [
    "def train(model, device, train_loader, optimizer, epoch):\n",
    "    model.train()\n",
    "    for batch_idx, (data, target) in enumerate(train_loader):\n",
    "        data, target = data.to(device), target.to(device)\n",
    "        optimizer.zero_grad()\n",
    "        output = model(data)\n",
    "        loss = F.nll_loss(output, target)\n",
    "        loss.backward()\n",
    "        optimizer.step()\n",
    "        if batch_idx % 10 == 0:\n",
    "            print('Train Epoch: {} [{}/{} ({:.0f}%)]\\tLoss: {:.6f}'.format(\n",
    "                epoch, batch_idx * len(data), len(train_loader.dataset),\n",
    "                       100. * batch_idx / len(train_loader), loss.item()))"
   ]
  },
  {
   "cell_type": "code",
   "execution_count": 5,
   "id": "5bd54ca1",
   "metadata": {},
   "outputs": [],
   "source": [
    "def test(model, device, test_loader):\n",
    "    model.eval()\n",
    "    test_loss = 0\n",
    "    correct = 0\n",
    "    with torch.no_grad():\n",
    "        for data, target in test_loader:\n",
    "            data, target = data.to(device), target.to(device)\n",
    "            output = model(data)\n",
    "            test_loss += F.nll_loss(output, target, reduction='sum').item()  # sum up batch loss\n",
    "            pred = output.argmax(dim=1, keepdim=True)  # get the index of the max log-probability\n",
    "            correct += pred.eq(target.view_as(pred)).sum().item()\n",
    "\n",
    "    test_loss /= len(test_loader.dataset)\n",
    "\n",
    "    print('\\nTest set: Average loss: {:.4f}, Accuracy: {}/{} ({:.0f}%)\\n'.format(\n",
    "        test_loss, correct, len(test_loader.dataset),\n",
    "        100. * correct / len(test_loader.dataset)))"
   ]
  },
  {
   "cell_type": "code",
   "execution_count": 6,
   "id": "239e60de",
   "metadata": {
    "scrolled": true
   },
   "outputs": [
    {
     "name": "stdout",
     "output_type": "stream",
     "text": [
      "Downloading http://yann.lecun.com/exdb/mnist/train-images-idx3-ubyte.gz\n",
      "Downloading http://yann.lecun.com/exdb/mnist/train-images-idx3-ubyte.gz to data\\MNIST\\raw\\train-images-idx3-ubyte.gz\n"
     ]
    },
    {
     "data": {
      "application/vnd.jupyter.widget-view+json": {
       "model_id": "352f55d6387449afb683d6df29e11c1a",
       "version_major": 2,
       "version_minor": 0
      },
      "text/plain": [
       "  0%|          | 0/9912422 [00:00<?, ?it/s]"
      ]
     },
     "metadata": {},
     "output_type": "display_data"
    },
    {
     "name": "stdout",
     "output_type": "stream",
     "text": [
      "Extracting data\\MNIST\\raw\\train-images-idx3-ubyte.gz to data\\MNIST\\raw\n",
      "\n",
      "Downloading http://yann.lecun.com/exdb/mnist/train-labels-idx1-ubyte.gz\n",
      "Downloading http://yann.lecun.com/exdb/mnist/train-labels-idx1-ubyte.gz to data\\MNIST\\raw\\train-labels-idx1-ubyte.gz\n"
     ]
    },
    {
     "data": {
      "application/vnd.jupyter.widget-view+json": {
       "model_id": "eed148df7c474b4e9c7a4cacc9bd6c28",
       "version_major": 2,
       "version_minor": 0
      },
      "text/plain": [
       "  0%|          | 0/28881 [00:00<?, ?it/s]"
      ]
     },
     "metadata": {},
     "output_type": "display_data"
    },
    {
     "name": "stdout",
     "output_type": "stream",
     "text": [
      "Extracting data\\MNIST\\raw\\train-labels-idx1-ubyte.gz to data\\MNIST\\raw\n",
      "\n",
      "Downloading http://yann.lecun.com/exdb/mnist/t10k-images-idx3-ubyte.gz\n",
      "Downloading http://yann.lecun.com/exdb/mnist/t10k-images-idx3-ubyte.gz to data\\MNIST\\raw\\t10k-images-idx3-ubyte.gz\n"
     ]
    },
    {
     "data": {
      "application/vnd.jupyter.widget-view+json": {
       "model_id": "03cd7078da124d28b0c5f807ea0dd0f8",
       "version_major": 2,
       "version_minor": 0
      },
      "text/plain": [
       "  0%|          | 0/1648877 [00:00<?, ?it/s]"
      ]
     },
     "metadata": {},
     "output_type": "display_data"
    },
    {
     "name": "stdout",
     "output_type": "stream",
     "text": [
      "Extracting data\\MNIST\\raw\\t10k-images-idx3-ubyte.gz to data\\MNIST\\raw\n",
      "\n",
      "Downloading http://yann.lecun.com/exdb/mnist/t10k-labels-idx1-ubyte.gz\n",
      "Downloading http://yann.lecun.com/exdb/mnist/t10k-labels-idx1-ubyte.gz to data\\MNIST\\raw\\t10k-labels-idx1-ubyte.gz\n"
     ]
    },
    {
     "data": {
      "application/vnd.jupyter.widget-view+json": {
       "model_id": "1f7ceb74dc99467eb805e5be027e2cfa",
       "version_major": 2,
       "version_minor": 0
      },
      "text/plain": [
       "  0%|          | 0/4542 [00:00<?, ?it/s]"
      ]
     },
     "metadata": {},
     "output_type": "display_data"
    },
    {
     "name": "stdout",
     "output_type": "stream",
     "text": [
      "Extracting data\\MNIST\\raw\\t10k-labels-idx1-ubyte.gz to data\\MNIST\\raw\n",
      "\n",
      "Train Epoch: 1 [0/60000 (0%)]\tLoss: 2.379921\n"
     ]
    },
    {
     "name": "stderr",
     "output_type": "stream",
     "text": [
      "C:\\ProgramData\\Anaconda3\\lib\\site-packages\\torch\\nn\\functional.py:1331: UserWarning: dropout2d: Received a 2-D input to dropout2d, which is deprecated and will result in an error in a future release. To retain the behavior and silence this warning, please use dropout instead. Note that dropout2d exists to provide channel-wise dropout on inputs with 2 spatial dimensions, a channel dimension, and an optional batch dimension (i.e. 3D or 4D inputs).\n",
      "  warnings.warn(warn_msg)\n"
     ]
    },
    {
     "name": "stdout",
     "output_type": "stream",
     "text": [
      "Train Epoch: 1 [640/60000 (1%)]\tLoss: 2.306254\n",
      "Train Epoch: 1 [1280/60000 (2%)]\tLoss: 2.269907\n",
      "Train Epoch: 1 [1920/60000 (3%)]\tLoss: 2.258081\n",
      "Train Epoch: 1 [2560/60000 (4%)]\tLoss: 2.292195\n",
      "Train Epoch: 1 [3200/60000 (5%)]\tLoss: 2.191405\n",
      "Train Epoch: 1 [3840/60000 (6%)]\tLoss: 2.175229\n",
      "Train Epoch: 1 [4480/60000 (7%)]\tLoss: 2.084040\n",
      "Train Epoch: 1 [5120/60000 (9%)]\tLoss: 2.146000\n",
      "Train Epoch: 1 [5760/60000 (10%)]\tLoss: 2.135360\n",
      "Train Epoch: 1 [6400/60000 (11%)]\tLoss: 2.111367\n",
      "Train Epoch: 1 [7040/60000 (12%)]\tLoss: 2.002632\n",
      "Train Epoch: 1 [7680/60000 (13%)]\tLoss: 1.994636\n",
      "Train Epoch: 1 [8320/60000 (14%)]\tLoss: 1.912580\n",
      "Train Epoch: 1 [8960/60000 (15%)]\tLoss: 1.954830\n",
      "Train Epoch: 1 [9600/60000 (16%)]\tLoss: 1.906932\n",
      "Train Epoch: 1 [10240/60000 (17%)]\tLoss: 1.832448\n",
      "Train Epoch: 1 [10880/60000 (18%)]\tLoss: 1.935462\n",
      "Train Epoch: 1 [11520/60000 (19%)]\tLoss: 1.844297\n",
      "Train Epoch: 1 [12160/60000 (20%)]\tLoss: 1.873972\n",
      "Train Epoch: 1 [12800/60000 (21%)]\tLoss: 1.864074\n",
      "Train Epoch: 1 [13440/60000 (22%)]\tLoss: 1.749197\n",
      "Train Epoch: 1 [14080/60000 (23%)]\tLoss: 1.668132\n",
      "Train Epoch: 1 [14720/60000 (25%)]\tLoss: 1.763890\n",
      "Train Epoch: 1 [15360/60000 (26%)]\tLoss: 1.705150\n",
      "Train Epoch: 1 [16000/60000 (27%)]\tLoss: 1.724042\n",
      "Train Epoch: 1 [16640/60000 (28%)]\tLoss: 1.743776\n",
      "Train Epoch: 1 [17280/60000 (29%)]\tLoss: 1.701551\n",
      "Train Epoch: 1 [17920/60000 (30%)]\tLoss: 1.780955\n",
      "Train Epoch: 1 [18560/60000 (31%)]\tLoss: 1.657770\n",
      "Train Epoch: 1 [19200/60000 (32%)]\tLoss: 1.717341\n",
      "Train Epoch: 1 [19840/60000 (33%)]\tLoss: 1.524512\n",
      "Train Epoch: 1 [20480/60000 (34%)]\tLoss: 1.482826\n",
      "Train Epoch: 1 [21120/60000 (35%)]\tLoss: 1.779959\n",
      "Train Epoch: 1 [21760/60000 (36%)]\tLoss: 1.559868\n",
      "Train Epoch: 1 [22400/60000 (37%)]\tLoss: 1.531302\n",
      "Train Epoch: 1 [23040/60000 (38%)]\tLoss: 1.462817\n",
      "Train Epoch: 1 [23680/60000 (39%)]\tLoss: 1.583720\n",
      "Train Epoch: 1 [24320/60000 (41%)]\tLoss: 1.559519\n",
      "Train Epoch: 1 [24960/60000 (42%)]\tLoss: 1.599337\n",
      "Train Epoch: 1 [25600/60000 (43%)]\tLoss: 1.511696\n",
      "Train Epoch: 1 [26240/60000 (44%)]\tLoss: 1.737542\n",
      "Train Epoch: 1 [26880/60000 (45%)]\tLoss: 1.521717\n",
      "Train Epoch: 1 [27520/60000 (46%)]\tLoss: 1.563649\n",
      "Train Epoch: 1 [28160/60000 (47%)]\tLoss: 1.536394\n",
      "Train Epoch: 1 [28800/60000 (48%)]\tLoss: 1.334155\n",
      "Train Epoch: 1 [29440/60000 (49%)]\tLoss: 1.578679\n",
      "Train Epoch: 1 [30080/60000 (50%)]\tLoss: 1.425545\n",
      "Train Epoch: 1 [30720/60000 (51%)]\tLoss: 1.440997\n",
      "Train Epoch: 1 [31360/60000 (52%)]\tLoss: 1.498285\n",
      "Train Epoch: 1 [32000/60000 (53%)]\tLoss: 1.540335\n",
      "Train Epoch: 1 [32640/60000 (54%)]\tLoss: 1.554156\n",
      "Train Epoch: 1 [33280/60000 (55%)]\tLoss: 1.463901\n",
      "Train Epoch: 1 [33920/60000 (57%)]\tLoss: 1.456635\n",
      "Train Epoch: 1 [34560/60000 (58%)]\tLoss: 1.441238\n",
      "Train Epoch: 1 [35200/60000 (59%)]\tLoss: 1.205783\n",
      "Train Epoch: 1 [35840/60000 (60%)]\tLoss: 1.319460\n",
      "Train Epoch: 1 [36480/60000 (61%)]\tLoss: 1.338356\n",
      "Train Epoch: 1 [37120/60000 (62%)]\tLoss: 1.123190\n",
      "Train Epoch: 1 [37760/60000 (63%)]\tLoss: 1.367617\n",
      "Train Epoch: 1 [38400/60000 (64%)]\tLoss: 1.232716\n",
      "Train Epoch: 1 [39040/60000 (65%)]\tLoss: 1.185097\n",
      "Train Epoch: 1 [39680/60000 (66%)]\tLoss: 1.417452\n",
      "Train Epoch: 1 [40320/60000 (67%)]\tLoss: 1.368227\n",
      "Train Epoch: 1 [40960/60000 (68%)]\tLoss: 1.384803\n",
      "Train Epoch: 1 [41600/60000 (69%)]\tLoss: 1.342944\n",
      "Train Epoch: 1 [42240/60000 (70%)]\tLoss: 1.204171\n",
      "Train Epoch: 1 [42880/60000 (71%)]\tLoss: 1.170465\n",
      "Train Epoch: 1 [43520/60000 (72%)]\tLoss: 1.006833\n",
      "Train Epoch: 1 [44160/60000 (74%)]\tLoss: 1.269638\n",
      "Train Epoch: 1 [44800/60000 (75%)]\tLoss: 1.326840\n",
      "Train Epoch: 1 [45440/60000 (76%)]\tLoss: 1.234975\n",
      "Train Epoch: 1 [46080/60000 (77%)]\tLoss: 1.275374\n",
      "Train Epoch: 1 [46720/60000 (78%)]\tLoss: 1.036997\n",
      "Train Epoch: 1 [47360/60000 (79%)]\tLoss: 1.233862\n",
      "Train Epoch: 1 [48000/60000 (80%)]\tLoss: 1.107044\n",
      "Train Epoch: 1 [48640/60000 (81%)]\tLoss: 1.024676\n",
      "Train Epoch: 1 [49280/60000 (82%)]\tLoss: 1.110828\n",
      "Train Epoch: 1 [49920/60000 (83%)]\tLoss: 1.290664\n",
      "Train Epoch: 1 [50560/60000 (84%)]\tLoss: 1.001566\n",
      "Train Epoch: 1 [51200/60000 (85%)]\tLoss: 1.035336\n",
      "Train Epoch: 1 [51840/60000 (86%)]\tLoss: 1.118578\n",
      "Train Epoch: 1 [52480/60000 (87%)]\tLoss: 1.023145\n",
      "Train Epoch: 1 [53120/60000 (88%)]\tLoss: 1.060649\n",
      "Train Epoch: 1 [53760/60000 (90%)]\tLoss: 0.981488\n",
      "Train Epoch: 1 [54400/60000 (91%)]\tLoss: 1.142082\n",
      "Train Epoch: 1 [55040/60000 (92%)]\tLoss: 0.906656\n",
      "Train Epoch: 1 [55680/60000 (93%)]\tLoss: 0.976631\n",
      "Train Epoch: 1 [56320/60000 (94%)]\tLoss: 1.001567\n",
      "Train Epoch: 1 [56960/60000 (95%)]\tLoss: 1.008247\n",
      "Train Epoch: 1 [57600/60000 (96%)]\tLoss: 0.909709\n",
      "Train Epoch: 1 [58240/60000 (97%)]\tLoss: 0.950893\n",
      "Train Epoch: 1 [58880/60000 (98%)]\tLoss: 0.924083\n",
      "Train Epoch: 1 [59520/60000 (99%)]\tLoss: 0.797498\n",
      "\n",
      "Test set: Average loss: 0.7721, Accuracy: 7580/10000 (76%)\n",
      "\n",
      "Train Epoch: 2 [0/60000 (0%)]\tLoss: 0.896741\n",
      "Train Epoch: 2 [640/60000 (1%)]\tLoss: 1.022225\n",
      "Train Epoch: 2 [1280/60000 (2%)]\tLoss: 0.943001\n",
      "Train Epoch: 2 [1920/60000 (3%)]\tLoss: 0.800229\n",
      "Train Epoch: 2 [2560/60000 (4%)]\tLoss: 0.927880\n",
      "Train Epoch: 2 [3200/60000 (5%)]\tLoss: 1.113234\n",
      "Train Epoch: 2 [3840/60000 (6%)]\tLoss: 1.124054\n",
      "Train Epoch: 2 [4480/60000 (7%)]\tLoss: 1.049623\n",
      "Train Epoch: 2 [5120/60000 (9%)]\tLoss: 1.101128\n",
      "Train Epoch: 2 [5760/60000 (10%)]\tLoss: 0.896238\n",
      "Train Epoch: 2 [6400/60000 (11%)]\tLoss: 0.941360\n",
      "Train Epoch: 2 [7040/60000 (12%)]\tLoss: 0.815898\n",
      "Train Epoch: 2 [7680/60000 (13%)]\tLoss: 0.892385\n",
      "Train Epoch: 2 [8320/60000 (14%)]\tLoss: 0.895337\n",
      "Train Epoch: 2 [8960/60000 (15%)]\tLoss: 0.787957\n",
      "Train Epoch: 2 [9600/60000 (16%)]\tLoss: 1.323182\n",
      "Train Epoch: 2 [10240/60000 (17%)]\tLoss: 0.966319\n",
      "Train Epoch: 2 [10880/60000 (18%)]\tLoss: 0.996626\n",
      "Train Epoch: 2 [11520/60000 (19%)]\tLoss: 1.029684\n",
      "Train Epoch: 2 [12160/60000 (20%)]\tLoss: 0.855986\n",
      "Train Epoch: 2 [12800/60000 (21%)]\tLoss: 0.859936\n",
      "Train Epoch: 2 [13440/60000 (22%)]\tLoss: 0.646318\n",
      "Train Epoch: 2 [14080/60000 (23%)]\tLoss: 0.947625\n",
      "Train Epoch: 2 [14720/60000 (25%)]\tLoss: 1.056495\n",
      "Train Epoch: 2 [15360/60000 (26%)]\tLoss: 0.967950\n",
      "Train Epoch: 2 [16000/60000 (27%)]\tLoss: 0.925164\n",
      "Train Epoch: 2 [16640/60000 (28%)]\tLoss: 0.803534\n",
      "Train Epoch: 2 [17280/60000 (29%)]\tLoss: 0.944664\n",
      "Train Epoch: 2 [17920/60000 (30%)]\tLoss: 1.021549\n",
      "Train Epoch: 2 [18560/60000 (31%)]\tLoss: 0.840095\n",
      "Train Epoch: 2 [19200/60000 (32%)]\tLoss: 1.070849\n",
      "Train Epoch: 2 [19840/60000 (33%)]\tLoss: 0.785666\n",
      "Train Epoch: 2 [20480/60000 (34%)]\tLoss: 0.713631\n",
      "Train Epoch: 2 [21120/60000 (35%)]\tLoss: 1.044891\n",
      "Train Epoch: 2 [21760/60000 (36%)]\tLoss: 0.755675\n",
      "Train Epoch: 2 [22400/60000 (37%)]\tLoss: 1.069338\n",
      "Train Epoch: 2 [23040/60000 (38%)]\tLoss: 0.736036\n",
      "Train Epoch: 2 [23680/60000 (39%)]\tLoss: 0.648193\n",
      "Train Epoch: 2 [24320/60000 (41%)]\tLoss: 0.954840\n",
      "Train Epoch: 2 [24960/60000 (42%)]\tLoss: 0.931323\n",
      "Train Epoch: 2 [25600/60000 (43%)]\tLoss: 0.826363\n",
      "Train Epoch: 2 [26240/60000 (44%)]\tLoss: 0.911917\n",
      "Train Epoch: 2 [26880/60000 (45%)]\tLoss: 0.836388\n",
      "Train Epoch: 2 [27520/60000 (46%)]\tLoss: 0.769458\n",
      "Train Epoch: 2 [28160/60000 (47%)]\tLoss: 0.658021\n",
      "Train Epoch: 2 [28800/60000 (48%)]\tLoss: 0.990938\n",
      "Train Epoch: 2 [29440/60000 (49%)]\tLoss: 0.967492\n",
      "Train Epoch: 2 [30080/60000 (50%)]\tLoss: 0.972831\n",
      "Train Epoch: 2 [30720/60000 (51%)]\tLoss: 0.969999\n",
      "Train Epoch: 2 [31360/60000 (52%)]\tLoss: 0.807424\n",
      "Train Epoch: 2 [32000/60000 (53%)]\tLoss: 0.716890\n",
      "Train Epoch: 2 [32640/60000 (54%)]\tLoss: 1.013478\n",
      "Train Epoch: 2 [33280/60000 (55%)]\tLoss: 0.884810\n",
      "Train Epoch: 2 [33920/60000 (57%)]\tLoss: 0.727352\n",
      "Train Epoch: 2 [34560/60000 (58%)]\tLoss: 0.849193\n",
      "Train Epoch: 2 [35200/60000 (59%)]\tLoss: 0.810401\n",
      "Train Epoch: 2 [35840/60000 (60%)]\tLoss: 0.691468\n",
      "Train Epoch: 2 [36480/60000 (61%)]\tLoss: 0.594188\n",
      "Train Epoch: 2 [37120/60000 (62%)]\tLoss: 0.760672\n",
      "Train Epoch: 2 [37760/60000 (63%)]\tLoss: 0.770798\n",
      "Train Epoch: 2 [38400/60000 (64%)]\tLoss: 0.484759\n",
      "Train Epoch: 2 [39040/60000 (65%)]\tLoss: 0.635910\n",
      "Train Epoch: 2 [39680/60000 (66%)]\tLoss: 0.762407\n",
      "Train Epoch: 2 [40320/60000 (67%)]\tLoss: 0.764161\n",
      "Train Epoch: 2 [40960/60000 (68%)]\tLoss: 0.715353\n"
     ]
    },
    {
     "ename": "KeyboardInterrupt",
     "evalue": "",
     "output_type": "error",
     "traceback": [
      "\u001b[1;31m---------------------------------------------------------------------------\u001b[0m",
      "\u001b[1;31mKeyboardInterrupt\u001b[0m                         Traceback (most recent call last)",
      "Input \u001b[1;32mIn [6]\u001b[0m, in \u001b[0;36m<cell line: 25>\u001b[1;34m()\u001b[0m\n\u001b[0;32m     24\u001b[0m scheduler \u001b[38;5;241m=\u001b[39m StepLR(optimizer, step_size\u001b[38;5;241m=\u001b[39m\u001b[38;5;241m1\u001b[39m, gamma\u001b[38;5;241m=\u001b[39m\u001b[38;5;241m0.7\u001b[39m)\n\u001b[0;32m     25\u001b[0m \u001b[38;5;28;01mfor\u001b[39;00m epoch \u001b[38;5;129;01min\u001b[39;00m \u001b[38;5;28mrange\u001b[39m(\u001b[38;5;241m1\u001b[39m, \u001b[38;5;241m10\u001b[39m):\n\u001b[1;32m---> 26\u001b[0m     \u001b[43mtrain\u001b[49m\u001b[43m(\u001b[49m\u001b[43mmodel\u001b[49m\u001b[43m,\u001b[49m\u001b[43m \u001b[49m\u001b[43mdevice\u001b[49m\u001b[43m,\u001b[49m\u001b[43m \u001b[49m\u001b[43mtrain_loader\u001b[49m\u001b[43m,\u001b[49m\u001b[43m \u001b[49m\u001b[43moptimizer\u001b[49m\u001b[43m,\u001b[49m\u001b[43m \u001b[49m\u001b[43mepoch\u001b[49m\u001b[43m)\u001b[49m\n\u001b[0;32m     27\u001b[0m     test(model, device, test_loader)\n\u001b[0;32m     28\u001b[0m     scheduler\u001b[38;5;241m.\u001b[39mstep()\n",
      "Input \u001b[1;32mIn [3]\u001b[0m, in \u001b[0;36mtrain\u001b[1;34m(model, device, train_loader, optimizer, epoch)\u001b[0m\n\u001b[0;32m      1\u001b[0m \u001b[38;5;28;01mdef\u001b[39;00m \u001b[38;5;21mtrain\u001b[39m(model, device, train_loader, optimizer, epoch):\n\u001b[0;32m      2\u001b[0m     model\u001b[38;5;241m.\u001b[39mtrain()\n\u001b[1;32m----> 3\u001b[0m     \u001b[38;5;28;01mfor\u001b[39;00m batch_idx, (data, target) \u001b[38;5;129;01min\u001b[39;00m \u001b[38;5;28menumerate\u001b[39m(train_loader):\n\u001b[0;32m      4\u001b[0m         data, target \u001b[38;5;241m=\u001b[39m data\u001b[38;5;241m.\u001b[39mto(device), target\u001b[38;5;241m.\u001b[39mto(device)\n\u001b[0;32m      5\u001b[0m         optimizer\u001b[38;5;241m.\u001b[39mzero_grad()\n",
      "File \u001b[1;32mC:\\ProgramData\\Anaconda3\\lib\\site-packages\\torch\\utils\\data\\dataloader.py:628\u001b[0m, in \u001b[0;36m_BaseDataLoaderIter.__next__\u001b[1;34m(self)\u001b[0m\n\u001b[0;32m    625\u001b[0m \u001b[38;5;28;01mif\u001b[39;00m \u001b[38;5;28mself\u001b[39m\u001b[38;5;241m.\u001b[39m_sampler_iter \u001b[38;5;129;01mis\u001b[39;00m \u001b[38;5;28;01mNone\u001b[39;00m:\n\u001b[0;32m    626\u001b[0m     \u001b[38;5;66;03m# TODO(https://github.com/pytorch/pytorch/issues/76750)\u001b[39;00m\n\u001b[0;32m    627\u001b[0m     \u001b[38;5;28mself\u001b[39m\u001b[38;5;241m.\u001b[39m_reset()  \u001b[38;5;66;03m# type: ignore[call-arg]\u001b[39;00m\n\u001b[1;32m--> 628\u001b[0m data \u001b[38;5;241m=\u001b[39m \u001b[38;5;28;43mself\u001b[39;49m\u001b[38;5;241;43m.\u001b[39;49m\u001b[43m_next_data\u001b[49m\u001b[43m(\u001b[49m\u001b[43m)\u001b[49m\n\u001b[0;32m    629\u001b[0m \u001b[38;5;28mself\u001b[39m\u001b[38;5;241m.\u001b[39m_num_yielded \u001b[38;5;241m+\u001b[39m\u001b[38;5;241m=\u001b[39m \u001b[38;5;241m1\u001b[39m\n\u001b[0;32m    630\u001b[0m \u001b[38;5;28;01mif\u001b[39;00m \u001b[38;5;28mself\u001b[39m\u001b[38;5;241m.\u001b[39m_dataset_kind \u001b[38;5;241m==\u001b[39m _DatasetKind\u001b[38;5;241m.\u001b[39mIterable \u001b[38;5;129;01mand\u001b[39;00m \\\n\u001b[0;32m    631\u001b[0m         \u001b[38;5;28mself\u001b[39m\u001b[38;5;241m.\u001b[39m_IterableDataset_len_called \u001b[38;5;129;01mis\u001b[39;00m \u001b[38;5;129;01mnot\u001b[39;00m \u001b[38;5;28;01mNone\u001b[39;00m \u001b[38;5;129;01mand\u001b[39;00m \\\n\u001b[0;32m    632\u001b[0m         \u001b[38;5;28mself\u001b[39m\u001b[38;5;241m.\u001b[39m_num_yielded \u001b[38;5;241m>\u001b[39m \u001b[38;5;28mself\u001b[39m\u001b[38;5;241m.\u001b[39m_IterableDataset_len_called:\n",
      "File \u001b[1;32mC:\\ProgramData\\Anaconda3\\lib\\site-packages\\torch\\utils\\data\\dataloader.py:671\u001b[0m, in \u001b[0;36m_SingleProcessDataLoaderIter._next_data\u001b[1;34m(self)\u001b[0m\n\u001b[0;32m    669\u001b[0m \u001b[38;5;28;01mdef\u001b[39;00m \u001b[38;5;21m_next_data\u001b[39m(\u001b[38;5;28mself\u001b[39m):\n\u001b[0;32m    670\u001b[0m     index \u001b[38;5;241m=\u001b[39m \u001b[38;5;28mself\u001b[39m\u001b[38;5;241m.\u001b[39m_next_index()  \u001b[38;5;66;03m# may raise StopIteration\u001b[39;00m\n\u001b[1;32m--> 671\u001b[0m     data \u001b[38;5;241m=\u001b[39m \u001b[38;5;28;43mself\u001b[39;49m\u001b[38;5;241;43m.\u001b[39;49m\u001b[43m_dataset_fetcher\u001b[49m\u001b[38;5;241;43m.\u001b[39;49m\u001b[43mfetch\u001b[49m\u001b[43m(\u001b[49m\u001b[43mindex\u001b[49m\u001b[43m)\u001b[49m  \u001b[38;5;66;03m# may raise StopIteration\u001b[39;00m\n\u001b[0;32m    672\u001b[0m     \u001b[38;5;28;01mif\u001b[39;00m \u001b[38;5;28mself\u001b[39m\u001b[38;5;241m.\u001b[39m_pin_memory:\n\u001b[0;32m    673\u001b[0m         data \u001b[38;5;241m=\u001b[39m _utils\u001b[38;5;241m.\u001b[39mpin_memory\u001b[38;5;241m.\u001b[39mpin_memory(data, \u001b[38;5;28mself\u001b[39m\u001b[38;5;241m.\u001b[39m_pin_memory_device)\n",
      "File \u001b[1;32mC:\\ProgramData\\Anaconda3\\lib\\site-packages\\torch\\utils\\data\\_utils\\fetch.py:58\u001b[0m, in \u001b[0;36m_MapDatasetFetcher.fetch\u001b[1;34m(self, possibly_batched_index)\u001b[0m\n\u001b[0;32m     56\u001b[0m         data \u001b[38;5;241m=\u001b[39m \u001b[38;5;28mself\u001b[39m\u001b[38;5;241m.\u001b[39mdataset\u001b[38;5;241m.\u001b[39m__getitems__(possibly_batched_index)\n\u001b[0;32m     57\u001b[0m     \u001b[38;5;28;01melse\u001b[39;00m:\n\u001b[1;32m---> 58\u001b[0m         data \u001b[38;5;241m=\u001b[39m [\u001b[38;5;28mself\u001b[39m\u001b[38;5;241m.\u001b[39mdataset[idx] \u001b[38;5;28;01mfor\u001b[39;00m idx \u001b[38;5;129;01min\u001b[39;00m possibly_batched_index]\n\u001b[0;32m     59\u001b[0m \u001b[38;5;28;01melse\u001b[39;00m:\n\u001b[0;32m     60\u001b[0m     data \u001b[38;5;241m=\u001b[39m \u001b[38;5;28mself\u001b[39m\u001b[38;5;241m.\u001b[39mdataset[possibly_batched_index]\n",
      "File \u001b[1;32mC:\\ProgramData\\Anaconda3\\lib\\site-packages\\torch\\utils\\data\\_utils\\fetch.py:58\u001b[0m, in \u001b[0;36m<listcomp>\u001b[1;34m(.0)\u001b[0m\n\u001b[0;32m     56\u001b[0m         data \u001b[38;5;241m=\u001b[39m \u001b[38;5;28mself\u001b[39m\u001b[38;5;241m.\u001b[39mdataset\u001b[38;5;241m.\u001b[39m__getitems__(possibly_batched_index)\n\u001b[0;32m     57\u001b[0m     \u001b[38;5;28;01melse\u001b[39;00m:\n\u001b[1;32m---> 58\u001b[0m         data \u001b[38;5;241m=\u001b[39m [\u001b[38;5;28;43mself\u001b[39;49m\u001b[38;5;241;43m.\u001b[39;49m\u001b[43mdataset\u001b[49m\u001b[43m[\u001b[49m\u001b[43midx\u001b[49m\u001b[43m]\u001b[49m \u001b[38;5;28;01mfor\u001b[39;00m idx \u001b[38;5;129;01min\u001b[39;00m possibly_batched_index]\n\u001b[0;32m     59\u001b[0m \u001b[38;5;28;01melse\u001b[39;00m:\n\u001b[0;32m     60\u001b[0m     data \u001b[38;5;241m=\u001b[39m \u001b[38;5;28mself\u001b[39m\u001b[38;5;241m.\u001b[39mdataset[possibly_batched_index]\n",
      "File \u001b[1;32mC:\\ProgramData\\Anaconda3\\lib\\site-packages\\torchvision\\datasets\\mnist.py:138\u001b[0m, in \u001b[0;36mMNIST.__getitem__\u001b[1;34m(self, index)\u001b[0m\n\u001b[0;32m    130\u001b[0m \u001b[38;5;28;01mdef\u001b[39;00m \u001b[38;5;21m__getitem__\u001b[39m(\u001b[38;5;28mself\u001b[39m, index: \u001b[38;5;28mint\u001b[39m) \u001b[38;5;241m-\u001b[39m\u001b[38;5;241m>\u001b[39m Tuple[Any, Any]:\n\u001b[0;32m    131\u001b[0m     \u001b[38;5;124;03m\"\"\"\u001b[39;00m\n\u001b[0;32m    132\u001b[0m \u001b[38;5;124;03m    Args:\u001b[39;00m\n\u001b[0;32m    133\u001b[0m \u001b[38;5;124;03m        index (int): Index\u001b[39;00m\n\u001b[1;32m   (...)\u001b[0m\n\u001b[0;32m    136\u001b[0m \u001b[38;5;124;03m        tuple: (image, target) where target is index of the target class.\u001b[39;00m\n\u001b[0;32m    137\u001b[0m \u001b[38;5;124;03m    \"\"\"\u001b[39;00m\n\u001b[1;32m--> 138\u001b[0m     img, target \u001b[38;5;241m=\u001b[39m \u001b[38;5;28mself\u001b[39m\u001b[38;5;241m.\u001b[39mdata[index], \u001b[38;5;28;43mint\u001b[39;49m\u001b[43m(\u001b[49m\u001b[38;5;28;43mself\u001b[39;49m\u001b[38;5;241;43m.\u001b[39;49m\u001b[43mtargets\u001b[49m\u001b[43m[\u001b[49m\u001b[43mindex\u001b[49m\u001b[43m]\u001b[49m\u001b[43m)\u001b[49m\n\u001b[0;32m    140\u001b[0m     \u001b[38;5;66;03m# doing this so that it is consistent with all other datasets\u001b[39;00m\n\u001b[0;32m    141\u001b[0m     \u001b[38;5;66;03m# to return a PIL Image\u001b[39;00m\n\u001b[0;32m    142\u001b[0m     img \u001b[38;5;241m=\u001b[39m Image\u001b[38;5;241m.\u001b[39mfromarray(img\u001b[38;5;241m.\u001b[39mnumpy(), mode\u001b[38;5;241m=\u001b[39m\u001b[38;5;124m\"\u001b[39m\u001b[38;5;124mL\u001b[39m\u001b[38;5;124m\"\u001b[39m)\n",
      "\u001b[1;31mKeyboardInterrupt\u001b[0m: "
     ]
    }
   ],
   "source": [
    "use_cuda = torch.cuda.is_available()\n",
    "torch.manual_seed(45123)\n",
    "\n",
    "device = torch.device(\"cuda\" if use_cuda else \"cpu\")\n",
    "\n",
    "kwargs = {'num_workers': 1, 'pin_memory': True} if use_cuda else {}\n",
    "train_loader = torch.utils.data.DataLoader(\n",
    "    datasets.MNIST('data', train=True, download=True,\n",
    "                   transform=transforms.Compose([\n",
    "                       transforms.ToTensor(),\n",
    "                       transforms.Normalize((0.1307,), (0.3081,))\n",
    "                   ])),\n",
    "    batch_size=64, shuffle=True, **kwargs)\n",
    "test_loader = torch.utils.data.DataLoader(\n",
    "    datasets.MNIST('data', train=False, transform=transforms.Compose([\n",
    "        transforms.ToTensor(),\n",
    "        transforms.Normalize((0.1307,), (0.3081,))\n",
    "    ])),\n",
    "    batch_size=1000, shuffle=True, **kwargs)\n",
    "\n",
    "model = Net().to(device)\n",
    "optimizer = optim.Adadelta(model.parameters(), lr=0.1)\n",
    "\n",
    "scheduler = StepLR(optimizer, step_size=1, gamma=0.7)\n",
    "for epoch in range(1, 10):\n",
    "    train(model, device, train_loader, optimizer, epoch)\n",
    "    test(model, device, test_loader)\n",
    "    scheduler.step()\n",
    "\n",
    "torch.save(model.state_dict(), \"mnist_rnn.pt\")"
   ]
  },
  {
   "cell_type": "code",
   "execution_count": null,
   "id": "a1069136",
   "metadata": {},
   "outputs": [],
   "source": [
    "# MasoudKaviani.ir"
   ]
  }
 ],
 "metadata": {
  "kernelspec": {
   "display_name": "Python 3 (ipykernel)",
   "language": "python",
   "name": "python3"
  },
  "language_info": {
   "codemirror_mode": {
    "name": "ipython",
    "version": 3
   },
   "file_extension": ".py",
   "mimetype": "text/x-python",
   "name": "python",
   "nbconvert_exporter": "python",
   "pygments_lexer": "ipython3",
   "version": "3.9.13"
  }
 },
 "nbformat": 4,
 "nbformat_minor": 5
}
